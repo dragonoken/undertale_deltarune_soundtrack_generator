{
 "cells": [
  {
   "cell_type": "markdown",
   "metadata": {},
   "source": [
    "# Undertale & Deltarune Soundtrack Generator"
   ]
  },
  {
   "cell_type": "markdown",
   "metadata": {},
   "source": [
    "---"
   ]
  },
  {
   "cell_type": "markdown",
   "metadata": {},
   "source": [
    "## Table of Contents\n",
    "\n",
    "0. [**Table of Contents**](#Table-of-Contents)\n",
    "\n",
    "1. [**Imports**](#Imports)\n",
    "\n",
    "2. [**Data Processing**](#Data-Processing)\n",
    "\n",
    "    2.1 [Data Loading](#Data-Loading)\n",
    "    \n",
    "    2.2 [Data Preprocessing](#Data-Preprocessing)\n",
    "    \n",
    "    2.3 [Dataset & Dataloader Definition](#Dataset-&-Dataloader-Definition)\n",
    "    \n",
    "3. [**Model Definition**](#Model-Definition)\n",
    "    \n",
    "4. [**Hyperparameters & Instantiation**](#Hyperparameters-&-Instantiation)\n",
    "\n",
    "5. [**Training**](#Training)\n",
    "    \n",
    "    4.1 [Training Function](#Training-Function)\n",
    "    \n",
    "    4.2 [Training Session](#Training-Session)\n",
    "\n",
    "6. [**Loading the Best Model**](#Loading-the-Best-Model)\n",
    "\n",
    "7. [**Generation**](#Generation)\n",
    "    \n",
    "    6.1 [Sampling Function](#Sampling-Function)\n",
    "\n",
    "    6.2 [Generation Function](#Generation-Function)\n",
    "    \n",
    "    6.3 [Music Generation](#Music-Generation)\n",
    "\n",
    "8. [**Final Summary, Notes, and Thoughts**](#Final-Summary,-Notes,-and-Thoughts)"
   ]
  },
  {
   "cell_type": "markdown",
   "metadata": {},
   "source": [
    "---"
   ]
  },
  {
   "cell_type": "markdown",
   "metadata": {},
   "source": [
    "## Imports\n",
    "[(go to top)](#Undertale-&-Deltarune-Soundtrack-Generator)\n",
    "\n",
    "Import required packages"
   ]
  },
  {
   "cell_type": "code",
   "execution_count": 1,
   "metadata": {
    "ExecuteTime": {
     "end_time": "2019-03-18T07:35:15.651058Z",
     "start_time": "2019-03-18T07:35:13.999491Z"
    }
   },
   "outputs": [],
   "source": [
    "import os                                         # File handling\n",
    "import itertools                                  # chain() for merging lists\n",
    "import random                                     # Shuffling\n",
    "import collections                                # Useful tools like Counter, OrderedDict\n",
    "import math                                       # For... math\n",
    "from decimal import Decimal                       # Scientific notations in string formatting\n",
    "\n",
    "import tqdm.auto as tqdm                          # Progress bar\n",
    "\n",
    "import torch                                      # Deep Learning Framework\n",
    "import torch.nn as nn\n",
    "import torch.nn.functional as F\n",
    "import torch.optim as optim\n",
    "from torch.utils.data import Dataset, DataLoader\n",
    "\n",
    "import matplotlib.pyplot as plt                   # Plotting training progress\n",
    "from matplotlib.ticker import AutoLocator\n",
    "%matplotlib inline\n",
    "\n",
    "fig_bg_color = \"lightsteelblue\"\n",
    "plot_bg_color = \"slategray\"\n",
    "fontsize = 20"
   ]
  },
  {
   "cell_type": "markdown",
   "metadata": {},
   "source": [
    "---"
   ]
  },
  {
   "cell_type": "markdown",
   "metadata": {
    "ExecuteTime": {
     "end_time": "2019-03-17T06:55:43.051798Z",
     "start_time": "2019-03-17T06:55:43.046023Z"
    }
   },
   "source": [
    "## Data Processing\n",
    "[(go to top)](#Undertale-&-Deltarune-Soundtrack-Generator)"
   ]
  },
  {
   "cell_type": "markdown",
   "metadata": {},
   "source": [
    "### Data Loading\n",
    "[(go to top)](#Undertale-&-Deltarune-Soundtrack-Generator)\n",
    "\n",
    "Read the text files in the target directory.\n",
    "\n",
    "Do some processing to make sure the texts are clean."
   ]
  },
  {
   "cell_type": "code",
   "execution_count": 2,
   "metadata": {
    "ExecuteTime": {
     "end_time": "2019-03-18T07:35:16.646061Z",
     "start_time": "2019-03-18T07:35:15.654384Z"
    }
   },
   "outputs": [
    {
     "data": {
      "text/plain": [
       "[('ANOTHER_HIM_-_DeltaRune.txt', '42 46 49 53 0 42 46 '),\n",
       " ('A_Town_Called_Hometown_Deltarune_-_Arranged_for_Piano.txt',\n",
       "  '73 89 0 73 89 0 73 8'),\n",
       " ('Basement_Deltarune_-_Arranged_for_Piano.txt', '39 51 0 39 51 0 39 5'),\n",
       " ('Before_the_Story_Deltarune_-_Arranged_for_piano_.txt',\n",
       "  '48 0 48 0 48 0 48 0 '),\n",
       " ('Card_Castle_Deltarune_-_Arranged_for_Piano.txt', '39 0 39 0 39 0 39 0 '),\n",
       " ('Checker_Dance_Deltarune_-_Arranged_for_Piano.txt', '30 0 30 0 30 0 30 0 '),\n",
       " ('Deltarune_-_Beginning.txt', '48 55 0 48 55 0 48 5'),\n",
       " ('Deltarune_-_Chaos_King.txt', '27 39 0 27 39 0 27 3'),\n",
       " ('Deltarune_-_Darkness_Falls.txt', '61 64 71 75 0 61 64 '),\n",
       " ('Deltarune_-_Dont_Forget_Ending_Theme_Solo_Piano_Version.txt',\n",
       "  '77 0 77 0 77 0 77 0 '),\n",
       " ('Deltarune_-_Friendship.txt', '74 0 74 0 74 0 74 0 '),\n",
       " ('Deltarune_-_Gallery.txt', '32 36 39 68 0 32 36 '),\n",
       " ('Deltarune_-_Lancer_Battle.txt', '62 0 62 0 62 0 0 0 0'),\n",
       " ('DELTARUNE_-_Lancer_piano_solo.txt', '0 0 0 62 0 62 0 62 0'),\n",
       " ('Deltarune_-_Lantern.txt', '49 0 49 0 49 0 49 0 '),\n",
       " ('Deltarune_-_Rude_Buster_Playable.txt', '31 43 0 31 43 0 31 4'),\n",
       " ('Deltarune_-_The_Chase.txt', '24 31 0 24 31 0 24 3'),\n",
       " ('Deltarune_-_THE_WORLD_REVOLVING.txt', '45 57 0 45 57 0 45 5'),\n",
       " ('Deltarune_-_Thrash_Machine.txt', '39 0 39 0 39 0 39 0 '),\n",
       " ('Deltarune_-_You_Can_Always_Come_Home.txt', '46 0 46 0 46 0 46 0 '),\n",
       " ('Deltarune_Legend.txt', '0 0 0 0 0 0 0 0 0 0 '),\n",
       " ('Empty_Town_Deltarune_-_Arranged_for_Piano.txt', '58 70 0 58 70 0 58 7'),\n",
       " ('Fanfare_Deltarune_-_Arranged_for_Piano.txt', '37 49 0 37 49 0 37 4'),\n",
       " ('Hip_Shop_Deltarune_-_Arranged_for_Piano.txt', '44 68 0 44 68 0 44 6'),\n",
       " ('Im_Very_Bad_Deltarune_-_Arranged_for_Piano.txt', '67 0 67 0 67 0 67 0 '),\n",
       " ('Man_Deltarune.txt', '61 0 61 0 61 0 61 0 '),\n",
       " ('Quiet_Autumn_Deltarune_-_Arranged_for_Piano.txt', '49 0 49 0 49 0 49 0 '),\n",
       " ('Rouxls_Kaard.txt', '43 74 0 43 74 0 43 7'),\n",
       " ('Scarlet_Forest_-_Deltarune_Advanced_Piano.txt', '55 0 55 0 55 0 55 0 '),\n",
       " ('School_-_DeltaRune.txt', '38 66 0 38 66 0 38 6'),\n",
       " ('Susie_Deltarune_-_Arranged_for_Piano.txt', '57 0 57 0 57 0 57 0 '),\n",
       " ('The_Circus_Deltarune_-_Arranged_for_Piano.txt', '54 0 54 0 54 0 54 0 '),\n",
       " ('The_Door_Deltarune_-_Arranged_for_Piano.txt', '49 80 0 49 80 0 49 8'),\n",
       " ('The_Field_of_Hopes_and_Dreams_Deltarune_-_Arranged_for_Piano.txt',\n",
       "  '56 68 71 78 0 56 68 '),\n",
       " ('THE_HOLY_Deltarune_-_Arranged_for_Piano.txt', '39 61 65 0 39 61 65 '),\n",
       " ('Undertale_-_004_Fallen_Down__085_Fallen_Down_Reprise.txt',\n",
       "  '63 79 0 63 79 0 63 7'),\n",
       " ('Undertale_-_005_Ruins.txt', '57 0 57 0 57 0 57 0 '),\n",
       " ('Undertale_-_010_Ghost_Fight.txt', '65 68 0 65 68 0 65 6'),\n",
       " ('Undertale_-_011_Determination.txt', '40 79 0 40 79 0 40 7'),\n",
       " ('Undertale_-_031_Waterfall.txt', '65 0 65 0 65 0 65 0 '),\n",
       " ('Undertale_-_036_Dummy.txt', '65 68 0 65 68 0 65 6'),\n",
       " ('Undertale_-_043_Temmie_Village.txt', '49 0 49 0 49 0 49 0 '),\n",
       " ('Undertale_-_046_Spear_of_Justice.txt', '32 44 68 75 80 0 32 '),\n",
       " ('Undertale_-_048_Alphys.txt', '47 0 47 0 47 0 47 0 '),\n",
       " ('Undertale_-_050_Metal_Crusher.txt', '64 0 64 0 64 0 64 0 '),\n",
       " ('Undertale_-_051_Another_Medium.txt', '85 0 85 0 85 0 85 0 '),\n",
       " ('Undertale_-_053_Stronger_Monsters.txt', '35 0 35 0 35 0 35 0 '),\n",
       " ('Undertale_-_063_Its_Raining_Somewhere_Else.txt', '49 0 49 0 49 52 0 49'),\n",
       " ('Undertale_-_065_CORE.txt', '69 72 74 0 69 72 74 '),\n",
       " ('Undertale_-_068_Death_by_Glamour.txt', '41 0 41 0 41 0 41 0 '),\n",
       " ('Undertale_-_079_Your_Best_Nightmare.txt', '35 47 58 70 0 35 47 '),\n",
       " ('Undertale_-_080_Finale.txt', '47 54 69 0 47 54 69 '),\n",
       " ('Undertale_-_100_MEGALOVANIA.txt', '63 0 63 0 63 0 63 0 '),\n",
       " ('Undertale_-_ASGORE.txt', '50 57 65 0 50 57 65 '),\n",
       " ('Undertale_-_Battle_Against_a_True_Hero.txt', '88 0 88 0 88 0 88 0 '),\n",
       " ('Undertale_-_Bonetrousle.txt', '37 0 37 0 37 0 37 0 '),\n",
       " ('Undertale_-_Heartache.txt', '31 47 0 31 47 0 31 4'),\n",
       " ('Undertale_-_Hopes_and_Dreams.txt', '64 78 0 64 78 0 64 7'),\n",
       " ('Undertale_-_Memory.txt', '77 0 77 0 77 0 77 0 '),\n",
       " ('Undertale_-_sans.txt', '33 0 33 0 33 0 33 0 '),\n",
       " ('Undertale_-_SAVE_the_World.txt', '45 57 67 0 45 57 67 '),\n",
       " ('Undertale_-_Spider_Dance.txt', '42 73 78 0 42 73 78 '),\n",
       " ('Undertale_Undertale_Piano.txt', '59 0 59 0 59 0 59 0 '),\n",
       " ('Vs._Susie_Deltarune_-_Arranged_for_Piano.txt', '47 0 47 0 47 0 47 0 ')]"
      ]
     },
     "execution_count": 2,
     "metadata": {},
     "output_type": "execute_result"
    }
   ],
   "source": [
    "def get_texts(texts_dir):\n",
    "\n",
    "    if not os.path.isdir(texts_dir):\n",
    "        raise FileNotFoundError(\"given text directory not found: {}\".format(texts_dir))\n",
    "\n",
    "    texts = []\n",
    "    \n",
    "    for text_path in (file.path for file in os.scandir(texts_dir) if file.is_file() and file.name.endswith(\".txt\")):\n",
    "        with open(file=text_path, mode='r', encoding=\"utf-8\") as text_file:\n",
    "            \n",
    "            text = text_file.read().strip()\n",
    "\n",
    "            if not text.replace(' ', '').isdigit():\n",
    "                raise RuntimeError(\"one or more characters other than digits and white spaces are detected: {}\".format(text_path))\n",
    "\n",
    "            while \"  \" in text:\n",
    "                text = text.replace(\"  \", ' ')\n",
    "            \n",
    "            texts.append((text_path, text))\n",
    "    \n",
    "    return dict(texts)\n",
    "\n",
    "\n",
    "[(os.path.split(text_path)[1], text[:20]) for text_path, text in get_texts(\"./source/converted_texts\").items()]"
   ]
  },
  {
   "cell_type": "markdown",
   "metadata": {},
   "source": [
    "### Data Preprocessing\n",
    "[(go to top)](#Undertale-&-Deltarune-Soundtrack-Generator)"
   ]
  },
  {
   "cell_type": "markdown",
   "metadata": {},
   "source": [
    "Get integers out of the text and make lists of ints.\n",
    "\n",
    "These lists can be used for the input of the models, or be further processed to compress or simplify the sequences."
   ]
  },
  {
   "cell_type": "code",
   "execution_count": 3,
   "metadata": {
    "ExecuteTime": {
     "end_time": "2019-03-18T07:35:17.059060Z",
     "start_time": "2019-03-18T07:35:16.648397Z"
    }
   },
   "outputs": [
    {
     "name": "stdout",
     "output_type": "stream",
     "text": [
      "[[42, 46, 49, 53, 0, 42, 46, 49, 53, 0], [73, 89, 0, 73, 89, 0, 73, 89, 0, 73], [39, 51, 0, 39, 51, 0, 39, 51, 0, 39], [48, 0, 48, 0, 48, 0, 48, 0, 48, 0], [39, 0, 39, 0, 39, 0, 39, 0, 39, 0], [30, 0, 30, 0, 30, 0, 30, 0, 30, 0], [48, 55, 0, 48, 55, 0, 48, 55, 0, 48], [27, 39, 0, 27, 39, 0, 27, 39, 0, 27], [61, 64, 71, 75, 0, 61, 64, 71, 75, 0], [77, 0, 77, 0, 77, 0, 77, 0, 77, 0], [74, 0, 74, 0, 74, 0, 74, 0, 74, 0], [32, 36, 39, 68, 0, 32, 36, 39, 68, 0], [62, 0, 62, 0, 62, 0, 0, 0, 0, 65], [0, 0, 0, 62, 0, 62, 0, 62, 0, 62], [49, 0, 49, 0, 49, 0, 49, 0, 49, 0], [31, 43, 0, 31, 43, 0, 31, 43, 0, 31], [24, 31, 0, 24, 31, 0, 24, 31, 0, 24], [45, 57, 0, 45, 57, 0, 45, 57, 0, 45], [39, 0, 39, 0, 39, 0, 39, 0, 39, 0], [46, 0, 46, 0, 46, 0, 46, 0, 46, 0], [0, 0, 0, 0, 0, 0, 0, 0, 0, 0], [58, 70, 0, 58, 70, 0, 58, 70, 0, 58], [37, 49, 0, 37, 49, 0, 37, 49, 0, 37], [44, 68, 0, 44, 68, 0, 44, 68, 0, 44], [67, 0, 67, 0, 67, 0, 67, 0, 67, 0], [61, 0, 61, 0, 61, 0, 61, 0, 61, 0], [49, 0, 49, 0, 49, 0, 49, 0, 54, 0], [43, 74, 0, 43, 74, 0, 43, 74, 0, 43], [55, 0, 55, 0, 55, 0, 55, 0, 55, 0], [38, 66, 0, 38, 66, 0, 38, 66, 0, 38], [57, 0, 57, 0, 57, 0, 57, 0, 57, 0], [54, 0, 54, 0, 54, 0, 54, 0, 54, 0], [49, 80, 0, 49, 80, 0, 49, 80, 0, 49], [56, 68, 71, 78, 0, 56, 68, 71, 78, 0], [39, 61, 65, 0, 39, 61, 65, 0, 39, 61], [63, 79, 0, 63, 79, 0, 63, 79, 0, 63], [57, 0, 57, 0, 57, 0, 57, 0, 57, 0], [65, 68, 0, 65, 68, 0, 65, 68, 0, 65], [40, 79, 0, 40, 79, 0, 40, 79, 0, 40], [65, 0, 65, 0, 65, 0, 65, 0, 65, 0], [65, 68, 0, 65, 68, 0, 65, 68, 0, 65], [49, 0, 49, 0, 49, 0, 49, 0, 49, 0], [32, 44, 68, 75, 80, 0, 32, 44, 68, 75], [47, 0, 47, 0, 47, 0, 47, 0, 47, 0], [64, 0, 64, 0, 64, 0, 64, 0, 64, 0], [85, 0, 85, 0, 85, 0, 85, 0, 80, 0], [35, 0, 35, 0, 35, 0, 35, 0, 35, 0], [49, 0, 49, 0, 49, 52, 0, 49, 52, 56], [69, 72, 74, 0, 69, 72, 74, 0, 69, 72], [41, 0, 41, 0, 41, 0, 41, 0, 41, 0], [35, 47, 58, 70, 0, 35, 47, 58, 70, 0], [47, 54, 69, 0, 47, 54, 69, 0, 47, 54], [63, 0, 63, 0, 63, 0, 63, 0, 0, 63], [50, 57, 65, 0, 50, 57, 65, 0, 50, 57], [88, 0, 88, 0, 88, 0, 88, 0, 88, 0], [37, 0, 37, 0, 37, 0, 37, 0, 37, 0], [31, 47, 0, 31, 47, 0, 31, 47, 0, 31], [64, 78, 0, 64, 78, 0, 64, 78, 0, 64], [77, 0, 77, 0, 77, 0, 77, 0, 77, 0], [33, 0, 33, 0, 33, 0, 33, 0, 33, 0], [45, 57, 67, 0, 45, 57, 67, 0, 45, 57], [42, 73, 78, 0, 42, 73, 78, 0, 73, 78], [59, 0, 59, 0, 59, 0, 59, 0, 59, 0], [47, 0, 47, 0, 47, 0, 47, 0, 47, 0]]\n"
     ]
    }
   ],
   "source": [
    "def texts_to_intlists(text_list):\n",
    "    \n",
    "    intlists = []\n",
    "    \n",
    "    for i, text in enumerate(iterable=text_list):\n",
    "        \n",
    "        int_strings = text.split(' ')\n",
    "        \n",
    "        if not all(int_str.isdigit() for int_str in int_strings):\n",
    "            raise RuntimeError(\"non-digit string detected in text {}\".format(i))\n",
    "\n",
    "        ints = [int(int_str) for int_str in int_strings]\n",
    "        \n",
    "        intlists.append(ints)\n",
    "        \n",
    "    return intlists\n",
    "\n",
    "\n",
    "print([ints[:10] for ints in texts_to_intlists(get_texts(\"./source/converted_texts\").values())])"
   ]
  },
  {
   "cell_type": "markdown",
   "metadata": {},
   "source": [
    "To use \"words\" as the input and output instead of \"characters\",\n",
    "\n",
    "consider '0's as spaces and find all existing words in the texts.\n",
    "\n",
    "(Here, each word becomes a \"token\")\n",
    "\n",
    "We can also tokenize the duration of each word to reduce the\n",
    "\n",
    "repetition of words that appear several times in a row."
   ]
  },
  {
   "cell_type": "code",
   "execution_count": 4,
   "metadata": {
    "ExecuteTime": {
     "end_time": "2019-03-18T07:35:18.028148Z",
     "start_time": "2019-03-18T07:35:17.062062Z"
    },
    "scrolled": true
   },
   "outputs": [
    {
     "name": "stdout",
     "output_type": "stream",
     "text": [
      "7536 tokens\n",
      "\n",
      "Part of tokenized sequences:\n",
      "[[764, 7535, 7535, 7535, 7535, 7535, 7535, 7535, 7535, 7535], [2871, 7535, 1336, 7535, 991, 1336, 7533, 262, 7521, 2872], [59, 7534, 0, 59, 7535, 7535, 7535, 7535, 7522, 2888], [25, 7535, 7521, 0, 50, 7535, 7521, 12, 7535, 7535], [23, 7524, 0, 7523, 23, 7524, 0, 7535, 7527, 121], [52, 7529, 0, 52, 7522, 0, 7535, 7535, 7535, 7535], [221, 7524, 0, 7522, 221, 7526, 0, 221, 7525, 0], [78, 7530, 0, 78, 7524, 0, 7525, 78, 7525, 0], [622, 7532, 166, 7526, 622, 7525, 166, 1374, 7528, 166], [16, 7535, 7533, 0, 7521, 26, 7535, 7533, 0, 1009]]\n",
      "\n",
      "Original lengths:\n",
      "[9070, 15651, 4602, 13185, 8139, 10348, 7383, 30509, 10821, 6219]\n",
      "\n",
      "Tokenized lengths (with maximum repetition of 15):\n",
      "[246, 892, 119, 641, 673, 1451, 719, 4066, 684, 307]\n",
      "\n",
      "Some of the most frequent tokens + repetition tokens if used:\n",
      "[(0, ()), (1, (44,)), (2, (69,)), (3, (66,)), (4, (63,)), (7531, ('<REPEAT>', 11)), (7532, ('<REPEAT>', 12)), (7533, ('<REPEAT>', 13)), (7534, ('<REPEAT>', 14)), (7535, ('<REPEAT>', 15))]\n",
      "\n",
      "Top 50%\n",
      "=========\n",
      "()                            8.319%\n",
      "('<REPEAT>', 3)               7.929%\n",
      "('<REPEAT>', 2)               5.626%\n",
      "('<REPEAT>', 4)               5.304%\n",
      "('<REPEAT>', 5)               4.827%\n",
      "('<REPEAT>', 1)               3.629%\n",
      "('<REPEAT>', 6)               3.332%\n",
      "('<REPEAT>', 7)               2.952%\n",
      "('<REPEAT>', 15)              2.831%\n",
      "('<REPEAT>', 8)               1.700%\n",
      "('<REPEAT>', 10)              1.302%\n",
      "('<REPEAT>', 9)               1.037%\n",
      "('<REPEAT>', 12)              0.587%\n",
      "('<REPEAT>', 13)              0.469%\n",
      "('<REPEAT>', 11)              0.466%\n"
     ]
    }
   ],
   "source": [
    "def tokenize(intlists, max_repeat_encoding=0, return_ratios=False):\n",
    "    assert isinstance(max_repeat_encoding, int) and max_repeat_encoding >= -1 # -1 for no limit\n",
    "    \n",
    "    encode_repetition = (max_repeat_encoding != 0)\n",
    "    if encode_repetition:\n",
    "        observed_repeats = []\n",
    "    \n",
    "    counter = collections.Counter() # Note: repetition tokens are not counted. They are appended to the dictionary later.\n",
    "    if return_ratios:\n",
    "        measure = collections.Counter()\n",
    "    tokenized_lists = []\n",
    "    \n",
    "    for intlist in intlists:\n",
    "        if encode_repetition:\n",
    "            last_token = None\n",
    "            n_repeats = 0\n",
    "        token = []\n",
    "        tokenized = []\n",
    "        for int_val in intlist:\n",
    "            if int_val != 0:\n",
    "                token.append(int_val)\n",
    "            else:\n",
    "                token = tuple(sorted(token))\n",
    "                \n",
    "                if encode_repetition:\n",
    "                    if last_token == token:\n",
    "                        if n_repeats == max_repeat_encoding:\n",
    "                            tokenized.append((\"<REPEAT>\", n_repeats))\n",
    "                            if return_ratios:\n",
    "                                measure.update(((\"<REPEAT>\", n_repeats),))\n",
    "                            n_repeats = 1\n",
    "                        else:\n",
    "                            n_repeats += 1\n",
    "                            if n_repeats not in observed_repeats:\n",
    "                                observed_repeats.append(n_repeats)\n",
    "                    else:\n",
    "                        if n_repeats != 0:\n",
    "                            tokenized.append((\"<REPEAT>\", n_repeats))\n",
    "                            if return_ratios:\n",
    "                                measure.update(((\"<REPEAT>\", n_repeats),))\n",
    "                        counter.update((token,))\n",
    "                        if return_ratios:\n",
    "                            measure.update((token,))\n",
    "                        tokenized.append(token)\n",
    "                        last_token = token\n",
    "                        n_repeats = 0\n",
    "\n",
    "                else:\n",
    "                    counter.update((token,))\n",
    "                    if return_ratios:\n",
    "                        measure.update((token,))\n",
    "                    tokenized.append(token)\n",
    "                token = []\n",
    "        tokenized_lists.append(tokenized)\n",
    "    \n",
    "    tokens_token_to_idx = collections.OrderedDict((token_key, i) for i, (token_key, _) in enumerate(counter.most_common()))\n",
    "    if encode_repetition:\n",
    "        tokens_token_to_idx.update([((\"<REPEAT>\", r), i) for i, r in enumerate(observed_repeats, len(tokens_token_to_idx))])\n",
    "    tokens_idx_to_token = collections.OrderedDict((i, token_key) for token_key, i in tokens_token_to_idx.items())\n",
    "    print(len(tokens_idx_to_token), \"tokens\")\n",
    "    \n",
    "    if return_ratios:\n",
    "        n_total_tokens = sum(tuple(measure.values()))\n",
    "        ratios = collections.OrderedDict((token_key, n_occurs / n_total_tokens) for token_key, n_occurs in measure.most_common())\n",
    "    \n",
    "    for tokenized in tokenized_lists:\n",
    "        for i, token_key in enumerate(tokenized):\n",
    "            tokenized[i] = tokens_token_to_idx[token_key]\n",
    "\n",
    "    if return_ratios:\n",
    "        return tokenized_lists, tokens_idx_to_token, ratios\n",
    "    return tokenized_lists, tokens_idx_to_token\n",
    "\n",
    "\n",
    "max_repeats = 15\n",
    "\n",
    "intlists = texts_to_intlists(get_texts(\"./source/converted_texts\").values())\n",
    "tokenized_lists, tokens_idx_to_token, ratios = tokenize(intlists, max_repeat_encoding=max_repeats, return_ratios=True)\n",
    "print(\"\\nPart of tokenized sequences:\")\n",
    "print([tokenized_list[:10] for tokenized_list in tokenized_lists[:10]])\n",
    "print(\"\\nOriginal lengths:\")\n",
    "print([len(intlist) for intlist in intlists[:10]])\n",
    "print(\"\\nTokenized lengths (with maximum repetition of {}):\".format(\"0 (no repetition tokens)\" if max_repeats == 0\n",
    "                                                                    else \"infinity (unlimited length)\" if max_repeats == -1\n",
    "                                                                    else max_repeats))\n",
    "print([len(tokenized_list) for tokenized_list in tokenized_lists[:10]])\n",
    "print(\"\\nSome of the most frequent tokens + repetition tokens if used:\")\n",
    "print(list(tokens_idx_to_token.items())[:5] + list(tokens_idx_to_token.items())[-5:])\n",
    "\n",
    "print(\"\\nTop 50%\")\n",
    "print(\"=========\")\n",
    "cum_ratio_sum = 0\n",
    "for token_key, ratio in ratios.items():\n",
    "    print(\"{:<20s}{:>15.3f}%\".format(str(token_key), ratio * 100))\n",
    "    cum_ratio_sum += ratio\n",
    "    if cum_ratio_sum >= 0.5:\n",
    "        break"
   ]
  },
  {
   "cell_type": "markdown",
   "metadata": {},
   "source": [
    "As you try out different *'max_repeat_encoding'* values \\[0, 5, 10, 20, -1\\] (-1 for unlimited repetition length)\n",
    "\n",
    "you should observe great reductions in sequence lengths when using repetition encodings."
   ]
  },
  {
   "cell_type": "markdown",
   "metadata": {},
   "source": [
    "### Dataset & Dataloader Definition\n",
    "[(go to top)](#Undertale-&-Deltarune-Soundtrack-Generator)"
   ]
  },
  {
   "cell_type": "markdown",
   "metadata": {},
   "source": [
    "Create a Dataset class from which training data can be sampled.\n",
    "\n",
    "This Dataset should convert the encoded sequence above into tensors\n",
    "\n",
    "and have a method for shuffling the order of multiple sequences while\n",
    "\n",
    "leaving the patterns inside of each sequence untouched."
   ]
  },
  {
   "cell_type": "code",
   "execution_count": 5,
   "metadata": {
    "ExecuteTime": {
     "end_time": "2019-03-18T07:35:18.040061Z",
     "start_time": "2019-03-18T07:35:18.030718Z"
    }
   },
   "outputs": [],
   "source": [
    "class UndertaleDeltaruneDataset(Dataset):\n",
    "    def __init__(self, texts_dir, batch_size=1, max_repeats=15):\n",
    "        self.texts = get_texts(texts_dir) # read and get a dictionary of {file_paths: text_contents}\n",
    "        self.sequences, self.tokens = tokenize(texts_to_intlists((self.texts.values())), max_repeat_encoding=max_repeats) # convert and tokenize\n",
    "\n",
    "        self.texts_dir = texts_dir\n",
    "        self.batch_size = batch_size\n",
    "\n",
    "    def __len__(self):\n",
    "        return self.batch_size\n",
    "\n",
    "    def data_len(self):\n",
    "        return sum([len(sequence) for sequence in self.sequences])\n",
    "\n",
    "    def __getitem__(self, index):\n",
    "        shuffled_list = list(itertools.chain(*random.sample(self.sequences, len(self.sequences))))\n",
    "        return torch.LongTensor(shuffled_list[:-1]), torch.LongTensor(shuffled_list[1:])"
   ]
  },
  {
   "cell_type": "markdown",
   "metadata": {},
   "source": [
    "Create a custom class that loads the data from the dataset above and\n",
    "\n",
    "allows iteration over the dataset, yielding a small sequence batch at a time."
   ]
  },
  {
   "cell_type": "code",
   "execution_count": 6,
   "metadata": {
    "ExecuteTime": {
     "end_time": "2019-03-18T07:35:18.058061Z",
     "start_time": "2019-03-18T07:35:18.042059Z"
    }
   },
   "outputs": [],
   "source": [
    "class UDBatchLoader:\n",
    "    def __init__(self, ud_dataset, batch_size, sequence_len, drop_last=False, batch_first=True):\n",
    "        self.ud_dataset = ud_dataset\n",
    "        self.batch_size = batch_size\n",
    "        self.sequence_len = sequence_len\n",
    "        self.drop_last = drop_last\n",
    "        self.batch_first = batch_first\n",
    "    \n",
    "    def __len__(self):\n",
    "        if self.drop_last:\n",
    "            return math.floor((self.ud_dataset.data_len() - 1) / self.sequence_len)\n",
    "        return math.ceil((self.ud_dataset.data_len() - 1) / self.sequence_len)\n",
    "    \n",
    "    def generator(self):\n",
    "        seq_len = self.sequence_len\n",
    "        n_seq_batches = self.__len__()\n",
    "        batch_first = self.batch_first\n",
    "        \n",
    "        input_batch, target_batch = next(iter(DataLoader(self.ud_dataset, self.batch_size)))\n",
    "        if not batch_first:\n",
    "            input_batch = input_batch.transpose(0, 1).contiguous()\n",
    "            target_batch = target_batch.transpose(0, 1).contiguous()\n",
    "        \n",
    "        for start, end in zip(range(0, seq_len * n_seq_batches, seq_len), range(seq_len, (seq_len + 1) * n_seq_batches, seq_len)):\n",
    "            if batch_first:\n",
    "                yield (input_batch[:, start:end].contiguous(), target_batch[:, start:end].contiguous())\n",
    "            else:\n",
    "                yield (input_batch[start:end], target_batch[start:end])\n",
    "    \n",
    "    def __iter__(self):\n",
    "        return self.generator()"
   ]
  },
  {
   "cell_type": "markdown",
   "metadata": {},
   "source": [
    "---"
   ]
  },
  {
   "cell_type": "markdown",
   "metadata": {},
   "source": [
    "## Model Definition\n",
    "[(go to top)](#Undertale-&-Deltarune-Soundtrack-Generator)\n",
    "\n",
    "Define the model architecture.\n",
    "\n",
    "The input is indices of the tokens, and the output is the negative Euclidean distance between the output of the final fully-connected layer and each embedding vectors of the embedding layer."
   ]
  },
  {
   "cell_type": "code",
   "execution_count": 7,
   "metadata": {
    "ExecuteTime": {
     "end_time": "2019-03-18T07:35:19.339574Z",
     "start_time": "2019-03-18T07:35:19.321565Z"
    }
   },
   "outputs": [],
   "source": [
    "class UDNet(nn.Module):\n",
    "    \"\"\"Undertale-Deltarune Network\"\"\"\n",
    "    def __init__(self, n_tokens, embedding_dim, hidden_dim, dropout=0., batch_first=True):\n",
    "        super(UDNet, self).__init__()\n",
    "        \n",
    "        # Stored variables\n",
    "        self.n_tokens = n_tokens\n",
    "        self.embedding_dim = embedding_dim\n",
    "        self.hidden_dim = hidden_dim\n",
    "        self.dropout = dropout\n",
    "        self.batch_first = batch_first\n",
    "        \n",
    "        # Overall architecture\n",
    "        self.embed = nn.Embedding(num_embeddings=n_tokens,      embedding_dim=embedding_dim)\n",
    "        self.lstm0 = nn.LSTM(     input_size    =embedding_dim, hidden_size  =hidden_dim,   batch_first=batch_first)\n",
    "        self.ln0   = nn.LayerNorm(hidden_dim)\n",
    "        self.lstm1 = nn.LSTM(     input_size    =hidden_dim,    hidden_size  =hidden_dim,   batch_first=batch_first)\n",
    "        self.ln1   = nn.LayerNorm(hidden_dim)\n",
    "        self.lstm2 = nn.LSTM(     input_size    =hidden_dim,    hidden_size  =hidden_dim,   batch_first=batch_first)\n",
    "        self.ln2   = nn.LayerNorm(hidden_dim)\n",
    "        self.fc    = nn.Linear(   in_features   =hidden_dim,    out_features =embedding_dim)\n",
    "#         self.out_fc= nn.Linear(   in_features   =embedding_dim, out_features =n_tokens)\n",
    "        \n",
    "        # Parameterized initial hidden(hidden, cell) states\n",
    "        self.hidden0_0 = nn.Parameter(torch.zeros(hidden_dim))\n",
    "        self.  cell0_0 = nn.Parameter(torch.zeros(hidden_dim))\n",
    "        self.hidden0_1 = nn.Parameter(torch.zeros(hidden_dim))\n",
    "        self.  cell0_1 = nn.Parameter(torch.zeros(hidden_dim))\n",
    "        self.hidden0_2 = nn.Parameter(torch.zeros(hidden_dim))\n",
    "        self.  cell0_2 = nn.Parameter(torch.zeros(hidden_dim))\n",
    "        \n",
    "        # Dropout and Activation layers\n",
    "        self.dropout_layer     = nn.Dropout(p=dropout)\n",
    "        self.hidden_activation = nn.ReLU()\n",
    "\n",
    "    def forward(self, x, hidden_states):\n",
    "        hiddens, cells = list(hidden_states[0]), list(hidden_states[1])\n",
    "\n",
    "        x                         = self.embed(x)\n",
    "        x, (hiddens[0], cells[0]) = self.lstm0(         self.dropout_layer(x), (hiddens[0], cells[0]))\n",
    "        shortcut                  = x\n",
    "        x, (hiddens[1], cells[1]) = self.lstm1(self.ln0(self.dropout_layer(x)), (hiddens[1], cells[1]))\n",
    "        shortcut, x               = x, shortcut + x\n",
    "        x, (hiddens[2], cells[2]) = self.lstm2(self.ln1(self.dropout_layer(x)), (hiddens[2], cells[2]))\n",
    "        x                         =    shortcut + x\n",
    "        x                         = self.fc(   self.ln2(self.dropout_layer(x)))\n",
    "        \n",
    "        # Plain matrix multiplication\n",
    "#         x                         = self.out_fc(x)\n",
    "        \n",
    "        # Negative Euclidean distance in the embedding space\n",
    "        x                         = (x.unsqueeze(-2) - self.embed.weight.data).pow(2).sum(dim=-1, keepdim=False).sqrt().neg()\n",
    "        \n",
    "        # Reciprocal Euclidean distance in the embedding space\n",
    "#         x                         = (x.unsqueeze(-2) - self.embed.weight.data).pow(2).sum(dim=-1, keepdim=False).sqrt().add(1e-5).reciprocal()\n",
    "        \n",
    "        return x, (tuple(hiddens), tuple(cells))\n",
    "\n",
    "    def init_hidden(self, batch_size, cuda=None):\n",
    "        if cuda is None:\n",
    "            device = self.hidden0_0.device\n",
    "        else:\n",
    "            device = torch.device('cuda') if cuda else torch.device('cpu')\n",
    "        \n",
    "        hiddens = (\n",
    "            self.hidden0_0.repeat(batch_size, 1).unsqueeze(0).to(device),\n",
    "            self.hidden0_1.repeat(batch_size, 1).unsqueeze(0).to(device),\n",
    "            self.hidden0_2.repeat(batch_size, 1).unsqueeze(0).to(device)\n",
    "        )\n",
    "\n",
    "        cells = (\n",
    "            self.cell0_0.repeat(batch_size, 1).unsqueeze(0).to(device),\n",
    "            self.cell0_1.repeat(batch_size, 1).unsqueeze(0).to(device),\n",
    "            self.cell0_2.repeat(batch_size, 1).unsqueeze(0).to(device)\n",
    "        )\n",
    "        \n",
    "        return (hiddens, cells)"
   ]
  },
  {
   "cell_type": "markdown",
   "metadata": {},
   "source": [
    "---"
   ]
  },
  {
   "cell_type": "markdown",
   "metadata": {},
   "source": [
    "## Hyperparameters & Instantiation\n",
    "[(go to top)](#Undertale-&-Deltarune-Soundtrack-Generator)\n",
    "\n",
    "Set hyperparameters and instantiate a dataset, model, optimizer, and criterion. (+ optionally a LR scheduler)"
   ]
  },
  {
   "cell_type": "code",
   "execution_count": 8,
   "metadata": {
    "ExecuteTime": {
     "end_time": "2019-03-18T07:35:28.348018Z",
     "start_time": "2019-03-18T07:35:21.101206Z"
    }
   },
   "outputs": [
    {
     "name": "stdout",
     "output_type": "stream",
     "text": [
      "Device: cuda\n",
      "\n",
      "7536 tokens\n",
      "\n",
      "Data Sequence Total Length: 88709\n",
      "\n",
      "UDNet(\n",
      "  (embed): Embedding(7536, 16)\n",
      "  (lstm0): LSTM(16, 256, batch_first=True)\n",
      "  (ln0): LayerNorm(torch.Size([256]), eps=1e-05, elementwise_affine=True)\n",
      "  (lstm1): LSTM(256, 256, batch_first=True)\n",
      "  (ln1): LayerNorm(torch.Size([256]), eps=1e-05, elementwise_affine=True)\n",
      "  (lstm2): LSTM(256, 256, batch_first=True)\n",
      "  (ln2): LayerNorm(torch.Size([256]), eps=1e-05, elementwise_affine=True)\n",
      "  (fc): Linear(in_features=256, out_features=16, bias=True)\n",
      "  (dropout_layer): Dropout(p=0.2)\n",
      "  (hidden_activation): ReLU()\n",
      ")\n"
     ]
    }
   ],
   "source": [
    "seed = 0\n",
    "random.seed(seed)\n",
    "torch.manual_seed(seed)\n",
    "\n",
    "batch_size = 8\n",
    "max_repeats = 15\n",
    "sequence_length = 200\n",
    "\n",
    "embedding_dim = 16\n",
    "hidden_dim = 256\n",
    "dropout=0.2\n",
    "\n",
    "n_epochs = 1000\n",
    "\n",
    "optimizer_params = {'lr': 1e-3, 'betas': (0.9, 0.999), 'eps': 1e-5, 'weight_decay': 0., 'amsgrad': True}\n",
    "\n",
    "hyperparameters = {'seed': seed,\n",
    "                   'batch_size': batch_size, 'max_repeats': max_repeats, 'sequence_length': sequence_length,\n",
    "                   'embedding_dim': embedding_dim, 'hidden_dim': hidden_dim, 'dropout': dropout,\n",
    "                   'n_epochs': n_epochs,\n",
    "                   'optimizer_params': optimizer_params}\n",
    "\n",
    "device = torch.device('cuda' if torch.cuda.is_available() else 'cpu')\n",
    "print(\"Device:\", device)\n",
    "print()\n",
    "\n",
    "ud_dataset = UndertaleDeltaruneDataset(\"./source/converted_texts\", batch_size, max_repeats)\n",
    "ud_loader = UDBatchLoader(ud_dataset, batch_size, sequence_length, False, True)\n",
    "\n",
    "model = UDNet(len(ud_dataset.tokens), embedding_dim, hidden_dim, dropout)\n",
    "model.to(device)\n",
    "optimizer = optim.Adam(model.parameters(), **optimizer_params)\n",
    "criterion = nn.CrossEntropyLoss()\n",
    "lr_scheduler = None\n",
    "history = {}\n",
    "\n",
    "print()\n",
    "print('Data Sequence Total Length:', ud_dataset.data_len())\n",
    "print()\n",
    "print(model)"
   ]
  },
  {
   "cell_type": "markdown",
   "metadata": {},
   "source": [
    "---"
   ]
  },
  {
   "cell_type": "markdown",
   "metadata": {},
   "source": [
    "## Training\n",
    "[(go to top)](#Undertale-&-Deltarune-Soundtrack-Generator)"
   ]
  },
  {
   "cell_type": "markdown",
   "metadata": {},
   "source": [
    "### Training Function\n",
    "[(go to top)](#Undertale-&-Deltarune-Soundtrack-Generator)"
   ]
  },
  {
   "cell_type": "code",
   "execution_count": 9,
   "metadata": {
    "ExecuteTime": {
     "end_time": "2019-03-18T07:23:57.205381Z",
     "start_time": "2019-03-18T07:23:57.049966Z"
    },
    "code_folding": [
     0
    ]
   },
   "outputs": [],
   "source": [
    "def train(model, optimizer, criterion, n_epochs, device, train_loader, lr_scheduler=None,\n",
    "          prehistory=None, checkpoint_dir='.', checkpoint_basename=None, save_every=None):\n",
    "    \"\"\"\n",
    "    Params\n",
    "    =======\n",
    "    model (torch module): model to train.\n",
    "    optimizer (torch optimizer): optimizer to use for training the model.\n",
    "    criterion (torch loss module): loss function for computing loss.\n",
    "    n_epochs (int): number of epochs to train.\n",
    "    device (str): device on which the training happens.\n",
    "    train_loader (iterable): training data(inputs, labels) loader.\n",
    "    lr_scheduler (lr_scheduler, optional): learning rate scheduler.\n",
    "    prehistory (dict, optional): can be provided for plotting when continuing\n",
    "                                 the training.\n",
    "    checkpoint_dir (str, optional): the directory in which checkpoint files are saved.\n",
    "                               (default: '.')\n",
    "    checkpoint_basename (str, optional): base name for checkpoint files (default: None)\n",
    "    save_every (int, optional): how often to create mid-training checkpoints, separate\n",
    "                                from the best checkpoint. Final result is always saved\n",
    "                                unless the base name is not given.\n",
    "                                (default: None)\n",
    "    \"\"\"\n",
    "    if prehistory:\n",
    "        history         = prehistory\n",
    "        best_loss_idx   = history['loss'].index(min(history['loss']))\n",
    "        best_loss       = history['loss'][best_loss_idx]\n",
    "        best_loss_epoch = history['epoch'][best_loss_idx]\n",
    "        best_loss_acc_1 = history['acc_1'][best_loss_idx]\n",
    "        best_loss_acc_5 = history['acc_5'][best_loss_idx]\n",
    "        loss            = history['loss'][-1]\n",
    "        acc_1           = history['acc_1'][-1]\n",
    "        acc_5           = history['acc_5'][-1]\n",
    "        i_epoch         = history['epoch'][-1] + 1\n",
    "    else:\n",
    "        history         = {'epoch':[], 'loss': [], 'acc_1': [], 'acc_5': []}\n",
    "        best_loss       = float('inf')\n",
    "        best_loss_epoch = -1\n",
    "        best_loss_acc_1 = 0.\n",
    "        best_loss_acc_5 = 0.\n",
    "        loss            = float('inf')\n",
    "        acc_1           = 0.\n",
    "        acc_5           = 0.\n",
    "        i_epoch         = 0\n",
    "    \n",
    "    if save_every is None:\n",
    "        save_every = n_epochs\n",
    "    _save_every_check = save_every - 1\n",
    "    if checkpoint_basename:\n",
    "        checkpoint_normal_filepath_template = os.path.join(checkpoint_dir, checkpoint_basename + \"(epoch={}).pth\")\n",
    "        checkpoint_best_filepath_template   = os.path.join(checkpoint_dir, checkpoint_basename + \"_best(epoch={}).pth\")\n",
    "    \n",
    "    def update_progress_stats(update_epoch, update_train):\n",
    "        if update_epoch:\n",
    "            if 'momentum' in optimizer.param_groups[0]:\n",
    "                momentum = optimizer.param_groups[0]['momentum']\n",
    "            elif 'betas' in optimizer.param_groups[0]:\n",
    "                momentum = optimizer.param_groups[0]['betas'][0]\n",
    "            else:\n",
    "                momentum = None\n",
    "            epoch_iterator.set_postfix_str(\"current_epoch={}, \"\n",
    "                                           \"loss={:.4f}, acc=(top1={:.4f}, top5={:.4f}), \"\n",
    "                                           \"best_loss_stats(epoch={}, loss={:.4f}, acc(top1={:.4f}, top5={:.4f})), \"\n",
    "                                           \"lr={:.4e}, momentum={:.4f}\"\n",
    "                                           .format(epoch,\n",
    "                                                   loss, acc_1, acc_5,\n",
    "                                                   best_loss_epoch, best_loss, best_loss_acc_1, best_loss_acc_5,\n",
    "                                                   Decimal(optimizer.param_groups[0]['lr']),\n",
    "                                                   momentum),\n",
    "                                           refresh=True)\n",
    "        if update_train:\n",
    "            train_iterator.set_postfix_str(\"loss={:>7.4f}, acc(top1={:.4f}, top5={:.4f})\".format(loss.item(), b_acc_1, b_acc_5), refresh=True)\n",
    "    \n",
    "    tracking_dict = {'history':         history,\n",
    "                     'hyperparameters': hyperparameters,\n",
    "                     'model_dict':      model.state_dict(),\n",
    "                     'optimizer_dict':  optimizer.state_dict(),\n",
    "                     'lr_dict':         lr_scheduler.state_dict() if lr_scheduler else None,\n",
    "                     'tokens':          ud_dataset.tokens}\n",
    "    \n",
    "    if n_epochs < 1:\n",
    "        return history\n",
    "    \n",
    "    model.to(device)\n",
    "    \n",
    "    plot_on = False\n",
    "    \n",
    "    if lr_scheduler:\n",
    "        last_epoch = int(lr_scheduler.last_epoch)\n",
    "    \n",
    "    try:\n",
    "        epoch_iterator = tqdm.tqdm(iterable=range(i_epoch, i_epoch + n_epochs), desc=\"Train Epochs\")\n",
    "        model.train()\n",
    "        for epoch in epoch_iterator:\n",
    "            if lr_scheduler:\n",
    "                last_epoch += 1\n",
    "            \n",
    "            update_progress_stats(True, False)\n",
    "\n",
    "            hidden_states = model.init_hidden(train_loader.batch_size)\n",
    "\n",
    "            running_loss = 0\n",
    "            n_top1_corrects = 0\n",
    "            n_top5_corrects = 0\n",
    "            n_instances = 0\n",
    "            train_iterator = tqdm.tqdm(iterable=train_loader, desc=\"Train Iterations\", leave=False)\n",
    "            for i, (inputs, labels) in enumerate(train_iterator):\n",
    "                if lr_scheduler:\n",
    "                    lr_scheduler.step(last_epoch + (i / len(train_loader)))\n",
    "                \n",
    "                inputs = inputs.to(device)\n",
    "                labels = labels.view(-1).to(device)\n",
    "\n",
    "                outputs, hidden_states = model(inputs, hidden_states)\n",
    "                outputs = outputs.view(-1, outputs.size(-1))\n",
    "                \n",
    "                hidden_states = ([hidden.detach() for hidden in hidden_states[0]],\n",
    "                                 [cell.detach() for cell in hidden_states[1]])\n",
    "\n",
    "                loss = criterion(outputs, labels)\n",
    "                optimizer.zero_grad()\n",
    "                loss.backward()\n",
    "                optimizer.step()\n",
    "\n",
    "                running_loss    += loss.item() * labels.size(0)\n",
    "                top5_match       = outputs.data.topk(k=5, dim=1)[1].eq(labels.unsqueeze(1))\n",
    "                top1_corrects    = top5_corrects[:, 0].sum()\n",
    "                top5_corrects    = top5_corrects.sum()\n",
    "                b_acc_1          = top1_corrects / labels.size(0)\n",
    "                b_acc_5          = top5_corrects / labels.size(0)\n",
    "                n_top1_corrects += top1_corrects\n",
    "                n_top5_corrects += top5_corrects\n",
    "                n_instances     += labels.size(0)\n",
    "                \n",
    "                update_progress_stats(True, True)\n",
    "                del outputs, loss, top5_match, top1_corrects, top5_corrects, b_acc_1, b_acc_5\n",
    "                \n",
    "            if lr_scheduler:\n",
    "                lr_scheduler.last_epoch = last_epoch\n",
    "            loss = running_loss / n_instances\n",
    "            acc_1 = n_top1_corrects / n_instances\n",
    "            acc_5 = n_top5_corrects / n_instances\n",
    "            del running_loss, n_top1_corrects, n_top5_corrects, n_instances\n",
    "            \n",
    "            update_progress_stats(True, False)\n",
    "            \n",
    "            history['epoch'].append(epoch)\n",
    "            history['loss'].append(loss)\n",
    "            history['acc_1'].append(acc_1)\n",
    "            history['acc_5'].append(acc_5)\n",
    "            if loss < best_loss:\n",
    "                best_loss = loss\n",
    "                best_loss_epoch = epoch\n",
    "                best_loss_acc_1 = acc_1\n",
    "                best_loss_acc_5 = acc_5\n",
    "                if checkpoint_basename:\n",
    "                    torch.save(tracking_dict, checkpoint_best_filepath_template.format(epoch))\n",
    "            \n",
    "            if checkpoint_basename and ((epoch - i_epoch) % save_every == _save_every_check or (epoch - i_epoch) == (n_epochs - 1)):\n",
    "                torch.save(tracking_dict, checkpoint_normal_filepath_template.format(epoch))\n",
    "                \n",
    "            if epoch >= 1:\n",
    "                if not plot_on:\n",
    "                    %matplotlib notebook\n",
    "                    fig, axes = plt.subplots(nrows=2, ncols=1, figsize=(13, 24), facecolor=fig_bg_color)\n",
    "                    axes[0].set_facecolor(plot_bg_color)\n",
    "                    axes[0].grid(True)\n",
    "                    axes[0].set_title(\"Training Loss\", fontsize=fontsize)\n",
    "                    axes[0].set_xlabel(\"Epoch\", fontsize=fontsize)\n",
    "                    axes[0].set_ylabel(\"Loss\", fontsize=fontsize)\n",
    "                    axes[0].plot([], [], color='blue', label='loss')\n",
    "                    axes[0].legend()\n",
    "                    axes[1].set_facecolor(plot_bg_color)\n",
    "                    axes[1].grid(True)\n",
    "                    axes[1].set_title(\"Training Accuracy\", fontsize=fontsize)\n",
    "                    axes[1].set_xlabel(\"Epoch\", fontsize=fontsize)\n",
    "                    axes[1].set_ylabel(\"Accuracy\", fontsize=fontsize)\n",
    "                    axes[1].plot([], [], color='blue', label='top-1 acc')\n",
    "                    axes[1].plot([], [], color='orange', label='top-5 acc')\n",
    "                    axes[1].legend()\n",
    "                    fig.canvas.draw()\n",
    "                    plot_on = True\n",
    "                    \n",
    "                axes[0].lines[0].set_xdata(history['epoch'])\n",
    "                axes[0].lines[0].set_ydata(history['loss'])\n",
    "                axes[1].lines[0].set_xdata(history['epoch'])\n",
    "                axes[1].lines[0].set_ydata(history['acc_1'])\n",
    "                axes[1].lines[1].set_xdata(history['epoch'])\n",
    "                axes[1].lines[1].set_ydata(history['acc_5'])\n",
    "\n",
    "                axes[0].set_xlim(-0.05 * epoch, 1.05 * epoch)\n",
    "                max_min_diff = max(history['loss']) - min(history['loss'])\n",
    "                if max_min_diff > 0:\n",
    "                    axes[0].set_ylim(min(history['loss']) - 0.05 * max_min_diff, max(history['loss']) + 0.05 * max_min_diff)\n",
    "                axes[1].set_xlim(-0.05 * epoch, 1.05 * epoch)\n",
    "                max_min_diff = max(history['acc']) - min(history['acc'])\n",
    "                if max_min_diff > 0:\n",
    "                    axes[1].set_ylim(min(history['acc']) - 0.05 * max_min_diff, max(history['acc']) + 0.05 * max_min_diff)\n",
    "\n",
    "                axes[0].xaxis.set_major_locator(AutoLocator())\n",
    "                axes[0].yaxis.set_major_locator(AutoLocator())\n",
    "                axes[1].xaxis.set_major_locator(AutoLocator())\n",
    "                axes[1].yaxis.set_major_locator(AutoLocator())\n",
    "\n",
    "                xlim = axes[0].get_xlim()\n",
    "                xticks = [tick for tick in axes[0].get_xticks() if xlim[0] <= tick <= xlim[1]]\n",
    "                index = len(history['loss']) - 1 - history['loss'][::-1].index(max(history['loss']))\n",
    "                if index not in xticks:\n",
    "                    xticks.append(index)\n",
    "                index = len(history['loss']) - 1 - history['loss'][::-1].index(min(history['loss']))\n",
    "                if index not in xticks:\n",
    "                    xticks.append(index)\n",
    "                if epoch not in xticks:\n",
    "                    xticks.append(epoch)\n",
    "                axes[0].set_xticks(xticks)\n",
    "\n",
    "                xlim = axes[1].get_xlim()\n",
    "                xticks = [tick for tick in axes[1].get_xticks() if xlim[0] <= tick <= xlim[1]]\n",
    "                index = len(history['acc_1']) - 1 - history['acc_1'][::-1].index(max(history['acc_1']))\n",
    "                if index not in xticks:\n",
    "                    xticks.append(index)\n",
    "                index = len(history['acc_1']) - 1 - history['acc_1'][::-1].index(min(history['acc_1']))\n",
    "                if index not in xticks:\n",
    "                    xticks.append(index)\n",
    "                index = len(history['acc_5']) - 1 - history['acc_5'][::-1].index(max(history['acc_5']))\n",
    "                if index not in xticks:\n",
    "                    xticks.append(index)\n",
    "                index = len(history['acc_5']) - 1 - history['acc_5'][::-1].index(min(history['acc_5']))\n",
    "                if index not in xticks:\n",
    "                    xticks.append(index)\n",
    "                if epoch not in xticks:\n",
    "                    xticks.append(epoch)\n",
    "                axes[1].set_xticks(xticks)\n",
    "\n",
    "                ylim = axes[0].get_ylim()\n",
    "                yticks = [tick for tick in axes[0].get_yticks() if ylim[0] <= tick <= ylim[1]]\n",
    "                if max(history['loss']) not in yticks:\n",
    "                    yticks.append(max(history['loss']))\n",
    "                if best_loss not in yticks:\n",
    "                    yticks.append(best_loss)\n",
    "                if history['loss'][-1] not in yticks:\n",
    "                    yticks.append(history['loss'][-1])\n",
    "                axes[0].set_yticks(yticks)\n",
    "\n",
    "                ylim = axes[1].get_ylim()\n",
    "                yticks = [tick for tick in axes[1].get_yticks() if ylim[0] <= tick <= ylim[1]]\n",
    "                if max(history['acc_1']) not in yticks:\n",
    "                    yticks.append(max(history['acc_1']))\n",
    "                if min(history['acc_1']) not in yticks:\n",
    "                    yticks.append(min(history['acc_1']))\n",
    "                if history['acc_1'][-1] not in yticks:\n",
    "                    yticks.append(history['acc_1'][-1])\n",
    "                if max(history['acc_5']) not in yticks:\n",
    "                    yticks.append(max(history['acc_5']))\n",
    "                if min(history['acc_5']) not in yticks:\n",
    "                    yticks.append(min(history['acc_5']))\n",
    "                if history['acc_5'][-1] not in yticks:\n",
    "                    yticks.append(history['acc_5'][-1])\n",
    "                axes[1].set_yticks(yticks)\n",
    "\n",
    "                fig.canvas.draw()\n",
    "                plt.pause(0.001)\n",
    "                \n",
    "    except KeyboardInterrupt:\n",
    "        if lr_scheduler:\n",
    "            lr_scheduler.step(int(last_epoch))\n",
    "    %matplotlib inline\n",
    "    return history, best_dict"
   ]
  },
  {
   "cell_type": "markdown",
   "metadata": {},
   "source": [
    "### Training Session\n",
    "[(go to top)](#Undertale-&-Deltarune-Soundtrack-Generator)"
   ]
  },
  {
   "cell_type": "code",
   "execution_count": null,
   "metadata": {
    "ExecuteTime": {
     "end_time": "2019-03-18T04:55:27.268804Z",
     "start_time": "2019-03-18T04:55:26.547837Z"
    },
    "code_folding": [],
    "scrolled": true
   },
   "outputs": [],
   "source": [
    "train(model, optimizer, criterion, n_epochs, device, ud_loader, lr_scheduler,\n",
    "      prehistory=history, checkpoint_dir='.', checkpoint_basename='PoC', save_every=100)"
   ]
  },
  {
   "cell_type": "markdown",
   "metadata": {},
   "source": [
    "---"
   ]
  },
  {
   "cell_type": "markdown",
   "metadata": {},
   "source": [
    "## Loading the Best Model\n",
    "[(go to top)](#Undertale-&-Deltarune-Soundtrack-Generator)"
   ]
  },
  {
   "cell_type": "code",
   "execution_count": 9,
   "metadata": {
    "ExecuteTime": {
     "end_time": "2019-03-18T07:35:28.704362Z",
     "start_time": "2019-03-18T07:35:28.351880Z"
    }
   },
   "outputs": [],
   "source": [
    "loaded_dict = torch.load(\"./temp/PoC_best.pth\", map_location=device)\n",
    "history = loaded_dict['history']\n",
    "hyperparameters = loaded_dict['hyperparameters']\n",
    "model_dict = loaded_dict['model_dict']\n",
    "optimizer_dict = loaded_dict['optimizer_dict']\n",
    "lr_dict = loaded_dict['lr_dict']\n",
    "\n",
    "model.load_state_dict(model_dict)\n",
    "optimizer.load_state_dict(optimizer_dict)"
   ]
  },
  {
   "cell_type": "code",
   "execution_count": 10,
   "metadata": {
    "ExecuteTime": {
     "end_time": "2019-03-18T07:35:29.263333Z",
     "start_time": "2019-03-18T07:35:28.705338Z"
    }
   },
   "outputs": [
    {
     "data": {
      "image/png": "[encoded data removed]",
      "text/plain": [
       "<Figure size 1728x864 with 2 Axes>"
      ]
     },
     "metadata": {},
     "output_type": "display_data"
    }
   ],
   "source": [
    "fig, axes = plt.subplots(nrows=1, ncols=2, figsize=(24, 12), facecolor=fig_bg_color)\n",
    "axes[0].set_facecolor(plot_bg_color)\n",
    "axes[0].grid(True)\n",
    "axes[0].set_title(\"Training Loss\", fontsize=fontsize)\n",
    "axes[0].set_xlabel(\"Epoch\", fontsize=fontsize)\n",
    "axes[0].set_ylabel(\"Loss\", fontsize=fontsize)\n",
    "axes[0].plot(history['epoch'], history['loss'], color='blue', label='loss')\n",
    "axes[0].legend()\n",
    "axes[1].set_facecolor(plot_bg_color)\n",
    "axes[1].grid(True)\n",
    "axes[1].set_title(\"Training Accuracy\", fontsize=fontsize)\n",
    "axes[1].set_xlabel(\"Epoch\", fontsize=fontsize)\n",
    "axes[1].set_ylabel(\"Accuracy\", fontsize=fontsize)\n",
    "axes[1].plot(history['epoch'], history['acc'], color='blue', label='top-1 acc')\n",
    "# axes[1].plot(history['epoch'], history['epoch'], color='orange', label='top-5 acc')\n",
    "axes[1].legend()\n",
    "\n",
    "xlim = axes[0].get_xlim()\n",
    "xticks = [tick for tick in axes[0].get_xticks() if xlim[0] <= tick <= xlim[1]]\n",
    "index = len(history['loss']) - 1 - history['loss'][::-1].index(max(history['loss']))\n",
    "if index not in xticks:\n",
    "    xticks.append(index)\n",
    "index = len(history['loss']) - 1 - history['loss'][::-1].index(min(history['loss']))\n",
    "if index not in xticks:\n",
    "    xticks.append(index)\n",
    "if history['epoch'][-1] not in xticks:\n",
    "    xticks.append(history['epoch'][-1])\n",
    "axes[0].set_xticks(xticks)\n",
    "\n",
    "xlim = axes[1].get_xlim()\n",
    "xticks = [tick for tick in axes[1].get_xticks() if xlim[0] <= tick <= xlim[1]]\n",
    "index = len(history['acc']) - 1 - history['acc'][::-1].index(max(history['acc']))\n",
    "if index not in xticks:\n",
    "    xticks.append(index)\n",
    "index = len(history['acc']) - 1 - history['acc'][::-1].index(min(history['acc']))\n",
    "if index not in xticks:\n",
    "    xticks.append(index)\n",
    "# index = len(history['acc_5']) - 1 - history['acc_5'][::-1].index(max(history['acc_5']))\n",
    "# if index not in xticks:\n",
    "#     xticks.append(index)\n",
    "# index = len(history['acc_5']) - 1 - history['acc_5'][::-1].index(min(history['acc_5']))\n",
    "# if index not in xticks:\n",
    "#     xticks.append(index)\n",
    "if history['epoch'][-1] not in xticks:\n",
    "    xticks.append(history['epoch'][-1])\n",
    "axes[1].set_xticks(xticks)\n",
    "\n",
    "ylim = axes[0].get_ylim()\n",
    "yticks = [tick for tick in axes[0].get_yticks() if ylim[0] <= tick <= ylim[1]]\n",
    "if max(history['loss']) not in yticks:\n",
    "    yticks.append(max(history['loss']))\n",
    "if min(history['loss']) not in yticks:\n",
    "    yticks.append(min(history['loss']))\n",
    "if history['loss'][-1] not in yticks:\n",
    "    yticks.append(history['loss'][-1])\n",
    "axes[0].set_yticks(yticks)\n",
    "\n",
    "ylim = axes[1].get_ylim()\n",
    "yticks = [tick for tick in axes[1].get_yticks() if ylim[0] <= tick <= ylim[1]]\n",
    "if max(history['acc']) not in yticks:\n",
    "    yticks.append(max(history['acc']))\n",
    "if min(history['acc']) not in yticks:\n",
    "    yticks.append(min(history['acc']))\n",
    "if history['acc'][-1] not in yticks:\n",
    "    yticks.append(history['acc'][-1])\n",
    "axes[1].set_yticks(yticks);\n",
    "# ylim = axes[1].get_ylim()\n",
    "# yticks = [tick for tick in axes[1].get_yticks() if ylim[0] <= tick <= ylim[1]]\n",
    "# if max(history['acc_1']) not in yticks:\n",
    "#     yticks.append(max(history['acc_1']))\n",
    "# if min(history['acc_1']) not in yticks:\n",
    "#     yticks.append(min(history['acc_1']))\n",
    "# if history['acc_1'][-1] not in yticks:\n",
    "#     yticks.append(history['acc_1'][-1])\n",
    "# if max(history['acc_5']) not in yticks:\n",
    "#     yticks.append(max(history['acc_5']))\n",
    "# if min(history['acc_5']) not in yticks:\n",
    "#     yticks.append(min(history['acc_5']))\n",
    "# if history['acc_5'][-1] not in yticks:\n",
    "#     yticks.append(history['acc_5'][-1])\n",
    "# axes[1].set_yticks(yticks)"
   ]
  },
  {
   "cell_type": "markdown",
   "metadata": {},
   "source": [
    "---"
   ]
  },
  {
   "cell_type": "markdown",
   "metadata": {},
   "source": [
    "## Generation\n",
    "[(go to top)](#Undertale-&-Deltarune-Soundtrack-Generator)"
   ]
  },
  {
   "cell_type": "markdown",
   "metadata": {},
   "source": [
    "### Sampling Function\n",
    "[(go to top)](#Undertale-&-Deltarune-Soundtrack-Generator)"
   ]
  },
  {
   "cell_type": "code",
   "execution_count": 11,
   "metadata": {
    "ExecuteTime": {
     "end_time": "2019-03-18T07:35:34.603020Z",
     "start_time": "2019-03-18T07:35:34.595488Z"
    }
   },
   "outputs": [],
   "source": [
    "def sample(model, input, hidden_states, top_k=5, temperature=1., return_as_tensor=False):\n",
    "    assert top_k > 0\n",
    "    assert temperature >= 0\n",
    "    with torch.no_grad():\n",
    "        output, hidden_states = model(input.view(1, -1), hidden_states)\n",
    "        probs = output[0].softmax(dim=1)\n",
    "    \n",
    "    if temperature == 0 or top_k == 1:\n",
    "        sampled = probs[-1].argmax(dim=0, keepdim=True)\n",
    "    else:\n",
    "        top_k_probs, top_k_args = probs[-1].topk(k=top_k, dim=0)\n",
    "        top_idx = torch.multinomial(top_k_probs.pow(1 / temperature), 1)\n",
    "        sampled = top_k_args.gather(dim=0, index=top_idx)\n",
    "    \n",
    "    if return_as_tensor:\n",
    "        return sampled, hidden_states\n",
    "    return sampled.item(), hidden_states"
   ]
  },
  {
   "cell_type": "markdown",
   "metadata": {},
   "source": [
    "### Generation Function\n",
    "[(go to top)](#Undertale-&-Deltarune-Soundtrack-Generator)"
   ]
  },
  {
   "cell_type": "code",
   "execution_count": 12,
   "metadata": {
    "ExecuteTime": {
     "end_time": "2019-03-18T07:35:35.443809Z",
     "start_time": "2019-03-18T07:35:35.431810Z"
    }
   },
   "outputs": [],
   "source": [
    "def generate(model, length, starting_tokens=[], starting_len=100, top_k=5, temperature=1.):\n",
    "    # `starting_len` is used to sample a sequence from ud_dataset when `staring_tokens` is not given.\n",
    "    if starting_tokens:\n",
    "        tokens = starting_tokens\n",
    "        note = torch.tensor(starting_tokens, dtype=torch.long, device=device)\n",
    "    else:\n",
    "        tokens = ud_dataset[0][0][:starting_len].tolist()\n",
    "        note = torch.tensor(tokens, dtype=torch.long, device=device)\n",
    "    \n",
    "    hidden_states = model.init_hidden(1)\n",
    "    model.eval()\n",
    "    \n",
    "    with torch.no_grad():\n",
    "        iterator = tqdm.tqdm(range(length), desc='Generating Tokens:', unit='token')\n",
    "        for _ in iterator:\n",
    "            note, hidden_states = sample(model, note, hidden_states, top_k, temperature, True)\n",
    "            tokens.append(note.item())\n",
    "    \n",
    "    model.train()\n",
    "    \n",
    "    return tokens\n",
    "\n",
    "def predict(model, ud_dataset, device=device):\n",
    "    inputs, targets = ud_dataset[0]\n",
    "    original = inputs[:1].tolist() + targets.tolist()\n",
    "    \n",
    "    model.to(device)\n",
    "    \n",
    "    seq_len = 2000\n",
    "    \n",
    "    predicted = [inputs[:1].item()]\n",
    "    \n",
    "    hidden_states = model.init_hidden(1)\n",
    "    hidden_states = ([hidden.detach() for hidden in hidden_states[0]],\n",
    "                     [cell.detach() for cell in hidden_states[1]])\n",
    "    model.eval()\n",
    "    \n",
    "    iterator = tqdm.tqdm(zip(range(0, len(inputs), seq_len), range(seq_len, len(inputs) + seq_len - 1, seq_len)),\n",
    "                         desc='Processing Dataset:', unit='token', unit_scale=seq_len)\n",
    "    with torch.no_grad():\n",
    "        for start, end in iterator:\n",
    "            outputs, hidden_states = model(inputs.data[start:end].unsqueeze(0).to(device), hidden_states)\n",
    "            predicted.extend(outputs.data.squeeze(0).argmax(dim=1, keepdim=False).cpu().tolist())\n",
    "    \n",
    "    model.train()\n",
    "    \n",
    "    return original, predicted"
   ]
  },
  {
   "cell_type": "markdown",
   "metadata": {},
   "source": [
    "### Music Generation\n",
    "[(go to top)](#Undertale-&-Deltarune-Soundtrack-Generator)"
   ]
  },
  {
   "cell_type": "code",
   "execution_count": 13,
   "metadata": {
    "ExecuteTime": {
     "end_time": "2019-03-18T07:35:36.879302Z",
     "start_time": "2019-03-18T07:35:36.873297Z"
    }
   },
   "outputs": [],
   "source": [
    "def tokens_to_intlist(tokens, token_to_key_dict):\n",
    "    if len(tokens) == 0:\n",
    "        return []\n",
    "\n",
    "    patterns = []\n",
    "    intlist = []\n",
    "    last_pattern = tuple()\n",
    "\n",
    "    for token in tokens:\n",
    "        pattern = token_to_key_dict[token]\n",
    "        if pattern != tuple() and pattern[0] == \"<REPEAT>\":\n",
    "            for _ in range(pattern[1]):\n",
    "                patterns.append(last_pattern)\n",
    "        else:\n",
    "            patterns.append(pattern)\n",
    "            last_pattern = pattern\n",
    "\n",
    "    intlist.extend(patterns[0])\n",
    "    for pattern in patterns[1:]:\n",
    "        intlist.append(0)\n",
    "        intlist.extend(pattern)\n",
    "    \n",
    "    return intlist"
   ]
  },
  {
   "cell_type": "code",
   "execution_count": 14,
   "metadata": {
    "ExecuteTime": {
     "end_time": "2019-03-18T07:35:37.413566Z",
     "start_time": "2019-03-18T07:35:37.409537Z"
    }
   },
   "outputs": [],
   "source": [
    "def intlist_to_text(intlist):\n",
    "    return \" \".join([str(int) for int in intlist])"
   ]
  },
  {
   "cell_type": "code",
   "execution_count": 15,
   "metadata": {
    "ExecuteTime": {
     "end_time": "2019-03-18T07:35:40.321755Z",
     "start_time": "2019-03-18T07:35:40.156750Z"
    },
    "scrolled": false
   },
   "outputs": [
    {
     "data": {
      "application/vnd.jupyter.widget-view+json": {
       "model_id": "b54ba8675da64e46bcdcd5b4642cc9ae",
       "version_major": 2,
       "version_minor": 0
      },
      "text/plain": [
       "HBox(children=(IntProgress(value=1, bar_style='info', description='Processing Dataset:', max=1, style=Progress…"
      ]
     },
     "metadata": {},
     "output_type": "display_data"
    },
    {
     "ename": "TypeError",
     "evalue": "unsupported operand type(s) for *=: 'NoneType' and 'int'",
     "output_type": "error",
     "traceback": [
      "\u001b[1;31m---------------------------------------------------------------------------\u001b[0m",
      "\u001b[1;31mTypeError\u001b[0m                                 Traceback (most recent call last)",
      "\u001b[1;32m<ipython-input-15-342c842f844e>\u001b[0m in \u001b[0;36m<module>\u001b[1;34m\u001b[0m\n\u001b[1;32m----> 1\u001b[1;33m \u001b[0moriginal_tokens\u001b[0m\u001b[1;33m,\u001b[0m \u001b[0mpredicted_tokens\u001b[0m \u001b[1;33m=\u001b[0m \u001b[0mpredict\u001b[0m\u001b[1;33m(\u001b[0m\u001b[0mmodel\u001b[0m\u001b[1;33m,\u001b[0m \u001b[0mud_dataset\u001b[0m\u001b[1;33m)\u001b[0m\u001b[1;33m\u001b[0m\u001b[1;33m\u001b[0m\u001b[0m\n\u001b[0m\u001b[0;32m      2\u001b[0m \u001b[0moriginal_intlist\u001b[0m\u001b[1;33m,\u001b[0m \u001b[0mpredicted_intlist\u001b[0m \u001b[1;33m=\u001b[0m \u001b[0mtokens_to_intlist\u001b[0m\u001b[1;33m(\u001b[0m\u001b[0moriginal_tokens\u001b[0m\u001b[1;33m,\u001b[0m \u001b[0mud_dataset\u001b[0m\u001b[1;33m.\u001b[0m\u001b[0mtokens\u001b[0m\u001b[1;33m)\u001b[0m\u001b[1;33m,\u001b[0m \u001b[0mtokens_to_intlist\u001b[0m\u001b[1;33m(\u001b[0m\u001b[0mpredicted_tokens\u001b[0m\u001b[1;33m,\u001b[0m \u001b[0mud_dataset\u001b[0m\u001b[1;33m.\u001b[0m\u001b[0mtokens\u001b[0m\u001b[1;33m)\u001b[0m\u001b[1;33m\u001b[0m\u001b[1;33m\u001b[0m\u001b[0m\n\u001b[0;32m      3\u001b[0m \u001b[0moriginal_text\u001b[0m\u001b[1;33m,\u001b[0m \u001b[0mpredicted_text\u001b[0m \u001b[1;33m=\u001b[0m \u001b[0mintlist_to_text\u001b[0m\u001b[1;33m(\u001b[0m\u001b[0moriginal_intlist\u001b[0m\u001b[1;33m)\u001b[0m\u001b[1;33m,\u001b[0m \u001b[0mintlist_to_text\u001b[0m\u001b[1;33m(\u001b[0m\u001b[0mpredicted_intlist\u001b[0m\u001b[1;33m)\u001b[0m\u001b[1;33m\u001b[0m\u001b[1;33m\u001b[0m\u001b[0m\n",
      "\u001b[1;32m<ipython-input-12-0dcf4dc81345>\u001b[0m in \u001b[0;36mpredict\u001b[1;34m(model, ud_dataset, device)\u001b[0m\n\u001b[0;32m     37\u001b[0m \u001b[1;33m\u001b[0m\u001b[0m\n\u001b[0;32m     38\u001b[0m     iterator = tqdm.tqdm(zip(range(0, len(inputs), seq_len), range(seq_len, len(inputs) + seq_len - 1, seq_len)),\n\u001b[1;32m---> 39\u001b[1;33m                          desc='Processing Dataset:', unit='token', unit_scale=seq_len)\n\u001b[0m\u001b[0;32m     40\u001b[0m     \u001b[1;32mwith\u001b[0m \u001b[0mtorch\u001b[0m\u001b[1;33m.\u001b[0m\u001b[0mno_grad\u001b[0m\u001b[1;33m(\u001b[0m\u001b[1;33m)\u001b[0m\u001b[1;33m:\u001b[0m\u001b[1;33m\u001b[0m\u001b[1;33m\u001b[0m\u001b[0m\n\u001b[0;32m     41\u001b[0m         \u001b[1;32mfor\u001b[0m \u001b[0mstart\u001b[0m\u001b[1;33m,\u001b[0m \u001b[0mend\u001b[0m \u001b[1;32min\u001b[0m \u001b[0miterator\u001b[0m\u001b[1;33m:\u001b[0m\u001b[1;33m\u001b[0m\u001b[1;33m\u001b[0m\u001b[0m\n",
      "\u001b[1;32m~\\Anaconda3\\envs\\pytorch1.0\\lib\\site-packages\\tqdm\\_tqdm_notebook.py\u001b[0m in \u001b[0;36m__init__\u001b[1;34m(self, *args, **kwargs)\u001b[0m\n\u001b[0;32m    215\u001b[0m         \u001b[1;31m# Print initial bar state\u001b[0m\u001b[1;33m\u001b[0m\u001b[1;33m\u001b[0m\u001b[1;33m\u001b[0m\u001b[0m\n\u001b[0;32m    216\u001b[0m         \u001b[1;32mif\u001b[0m \u001b[1;32mnot\u001b[0m \u001b[0mself\u001b[0m\u001b[1;33m.\u001b[0m\u001b[0mdisable\u001b[0m\u001b[1;33m:\u001b[0m\u001b[1;33m\u001b[0m\u001b[1;33m\u001b[0m\u001b[0m\n\u001b[1;32m--> 217\u001b[1;33m             \u001b[0mself\u001b[0m\u001b[1;33m.\u001b[0m\u001b[0msp\u001b[0m\u001b[1;33m(\u001b[0m\u001b[0mself\u001b[0m\u001b[1;33m.\u001b[0m\u001b[0m__repr__\u001b[0m\u001b[1;33m(\u001b[0m\u001b[1;33m)\u001b[0m\u001b[1;33m)\u001b[0m  \u001b[1;31m# same as self.refresh without clearing\u001b[0m\u001b[1;33m\u001b[0m\u001b[1;33m\u001b[0m\u001b[0m\n\u001b[0m\u001b[0;32m    218\u001b[0m \u001b[1;33m\u001b[0m\u001b[0m\n\u001b[0;32m    219\u001b[0m     \u001b[1;32mdef\u001b[0m \u001b[0m__iter__\u001b[0m\u001b[1;33m(\u001b[0m\u001b[0mself\u001b[0m\u001b[1;33m,\u001b[0m \u001b[1;33m*\u001b[0m\u001b[0margs\u001b[0m\u001b[1;33m,\u001b[0m \u001b[1;33m**\u001b[0m\u001b[0mkwargs\u001b[0m\u001b[1;33m)\u001b[0m\u001b[1;33m:\u001b[0m\u001b[1;33m\u001b[0m\u001b[1;33m\u001b[0m\u001b[0m\n",
      "\u001b[1;32m~\\Anaconda3\\envs\\pytorch1.0\\lib\\site-packages\\tqdm\\_tqdm.py\u001b[0m in \u001b[0;36m__repr__\u001b[1;34m(self, elapsed)\u001b[0m\n\u001b[0;32m    938\u001b[0m             \u001b[0mself\u001b[0m\u001b[1;33m.\u001b[0m\u001b[0mdesc\u001b[0m\u001b[1;33m,\u001b[0m \u001b[0mself\u001b[0m\u001b[1;33m.\u001b[0m\u001b[0mascii\u001b[0m\u001b[1;33m,\u001b[0m \u001b[0mself\u001b[0m\u001b[1;33m.\u001b[0m\u001b[0munit\u001b[0m\u001b[1;33m,\u001b[0m\u001b[1;33m\u001b[0m\u001b[1;33m\u001b[0m\u001b[0m\n\u001b[0;32m    939\u001b[0m             \u001b[0mself\u001b[0m\u001b[1;33m.\u001b[0m\u001b[0munit_scale\u001b[0m\u001b[1;33m,\u001b[0m \u001b[1;36m1\u001b[0m \u001b[1;33m/\u001b[0m \u001b[0mself\u001b[0m\u001b[1;33m.\u001b[0m\u001b[0mavg_time\u001b[0m \u001b[1;32mif\u001b[0m \u001b[0mself\u001b[0m\u001b[1;33m.\u001b[0m\u001b[0mavg_time\u001b[0m \u001b[1;32melse\u001b[0m \u001b[1;32mNone\u001b[0m\u001b[1;33m,\u001b[0m\u001b[1;33m\u001b[0m\u001b[1;33m\u001b[0m\u001b[0m\n\u001b[1;32m--> 940\u001b[1;33m             self.bar_format, self.postfix, self.unit_divisor)\n\u001b[0m\u001b[0;32m    941\u001b[0m \u001b[1;33m\u001b[0m\u001b[0m\n\u001b[0;32m    942\u001b[0m     \u001b[1;33m@\u001b[0m\u001b[0mproperty\u001b[0m\u001b[1;33m\u001b[0m\u001b[1;33m\u001b[0m\u001b[0m\n",
      "\u001b[1;32m~\\Anaconda3\\envs\\pytorch1.0\\lib\\site-packages\\tqdm\\_tqdm.py\u001b[0m in \u001b[0;36mformat_meter\u001b[1;34m(n, total, elapsed, ncols, prefix, ascii, unit, unit_scale, rate, bar_format, postfix, unit_divisor)\u001b[0m\n\u001b[0;32m    304\u001b[0m         \u001b[1;31m# apply custom scale if necessary\u001b[0m\u001b[1;33m\u001b[0m\u001b[1;33m\u001b[0m\u001b[1;33m\u001b[0m\u001b[0m\n\u001b[0;32m    305\u001b[0m         \u001b[1;32mif\u001b[0m \u001b[0munit_scale\u001b[0m \u001b[1;32mand\u001b[0m \u001b[0munit_scale\u001b[0m \u001b[1;32mnot\u001b[0m \u001b[1;32min\u001b[0m \u001b[1;33m(\u001b[0m\u001b[1;32mTrue\u001b[0m\u001b[1;33m,\u001b[0m \u001b[1;36m1\u001b[0m\u001b[1;33m)\u001b[0m\u001b[1;33m:\u001b[0m\u001b[1;33m\u001b[0m\u001b[1;33m\u001b[0m\u001b[0m\n\u001b[1;32m--> 306\u001b[1;33m             \u001b[0mtotal\u001b[0m \u001b[1;33m*=\u001b[0m \u001b[0munit_scale\u001b[0m\u001b[1;33m\u001b[0m\u001b[1;33m\u001b[0m\u001b[0m\n\u001b[0m\u001b[0;32m    307\u001b[0m             \u001b[0mn\u001b[0m \u001b[1;33m*=\u001b[0m \u001b[0munit_scale\u001b[0m\u001b[1;33m\u001b[0m\u001b[1;33m\u001b[0m\u001b[0m\n\u001b[0;32m    308\u001b[0m             \u001b[1;32mif\u001b[0m \u001b[0mrate\u001b[0m\u001b[1;33m:\u001b[0m\u001b[1;33m\u001b[0m\u001b[1;33m\u001b[0m\u001b[0m\n",
      "\u001b[1;31mTypeError\u001b[0m: unsupported operand type(s) for *=: 'NoneType' and 'int'"
     ]
    }
   ],
   "source": [
    "original_tokens, predicted_tokens = predict(model, ud_dataset)\n",
    "original_intlist, predicted_intlist = tokens_to_intlist(original_tokens, ud_dataset.tokens), tokens_to_intlist(predicted_tokens, ud_dataset.tokens)\n",
    "original_text, predicted_text = intlist_to_text(original_intlist), intlist_to_text(predicted_intlist)"
   ]
  },
  {
   "cell_type": "code",
   "execution_count": null,
   "metadata": {},
   "outputs": [],
   "source": [
    "filebase = \"./poc\"\n",
    "\n",
    "with open(filebase + \"_orig.txt\", 'w') as f:\n",
    "    f.write(original_text)\n",
    "with open(filebase + \"_pred.txt\", 'w') as f:\n",
    "    f.write(predicted_text)"
   ]
  },
  {
   "cell_type": "code",
   "execution_count": 16,
   "metadata": {
    "ExecuteTime": {
     "end_time": "2019-03-18T07:23:07.831149Z",
     "start_time": "2019-03-18T07:23:04.188721Z"
    }
   },
   "outputs": [
    {
     "data": {
      "application/vnd.jupyter.widget-view+json": {
       "model_id": "bca89bf0fdb24850bbc1dafaa4f028ed",
       "version_major": 2,
       "version_minor": 0
      },
      "text/plain": [
       "HBox(children=(IntProgress(value=0, description='Generating Tokens:', max=1000, style=ProgressStyle(descriptio…"
      ]
     },
     "metadata": {},
     "output_type": "display_data"
    },
    {
     "name": "stdout",
     "output_type": "stream",
     "text": [
      "Generated Tokens (1100)\n",
      "[32, 7530, 0, 330, 7529, 0, 34, 7530, 0, 165, 7529, 0, 4, 7531, 217, 7523, 24, 217, 7524, 4, 7531, 0, 75, 7530, 0, 7531, 165, 7530, 34, 7530, 0, 165, 7530, 4, 7531, 217, 7524, 24, 217, 7524, 4, 7530, 0, 75, 7530, 32, 7530, 0, 330, 7530, 34, 7530, 0, 165, 7530, 4, 7531, 217, 7524, 24, 217, 7524, 4, 7530, 0, 75, 7530, 0, 7531, 165, 7530, 0, 34, 7529, 0, 517, 7530, 0, 3, 7530, 330, 7524, 24, 75, 7524, 34, 7530, 0, 330, 7530, 0, 32, 7530, 330, 7530, 0, 34, 7530, 165, 7530, '...']\n",
      "\n",
      "Int List (13391)\n",
      "[59, 0, 59, 0, 59, 0, 59, 0, 59, 0, 59, 0, 59, 0, 59, 0, 59, 0, 59, 0, 59, 0, 0, 52, 66, 0, 52, 66, 0, 52, 66, 0, 52, 66, 0, 52, 66, 0, 52, 66, 0, 52, 66, 0, 52, 66, 0, 52, 66, 0, 52, 66, 0, 0, 64, 0, 64, 0, 64, 0, 64, 0, 64, 0, 64, 0, 64, 0, 64, 0, 64, 0, 64, 0, 64, 0, 0, 52, 59, 0, 52, 59, 0, 52, 59, 0, 52, 59, 0, 52, 59, 0, 52, 59, 0, 52, 59, 0, 52, 59, '...']\n",
      "\n",
      "Text (35999)\n",
      "59 0 59 0 59 0 59 0 59 0 59 0 59 0 59 0 59 0 59 0 59 0 0 52 66 0 52 66 0 52 66 0 52 66 0 52 66 0 52 66 0 52 66 0 52 66 0 52 66 0 52 66 0 0 64 0 64 0 64 0 64 0 64 0 64 0 64 0 64 0 64 0 64 0 64 0 0 52 59 0 52 59 0 52 59 0 52 59 0 52 59 0 52 59 0 52 59 0 52 59 0 52 59 0 52 59 0 0 63 0 63 0 63 0 63 0 63 0 63 0 63 0 63 0 63 0 63 0 63 0 63 0 52 63 0 52 63 0 52 63 0 52 63 0 52 0 52 63 0 52 63 0 52 63 0 52 63 0 52 63 0 63 0 63 0 63 0 63 0 63 0 63 0 63 0 63 0 63 0 63 0 63 0 63 0 0 52 64 0 52 64 0 52 64 0 ...\n"
     ]
    }
   ],
   "source": [
    "generated_tokens = generate(model, 1000, starting_tokens=[], starting_len=100, top_k=1, temperature=1.)\n",
    "generated_intlist = tokens_to_intlist(generated_tokens, ud_dataset.tokens)\n",
    "generated_text = intlist_to_text(generated_intlist)\n",
    "\n",
    "print(\"Generated Tokens ({})\".format(len(generated_tokens)))\n",
    "print(generated_tokens[:100] + ['...'])\n",
    "print(\"\\nInt List ({})\".format(len(generated_intlist)))\n",
    "print(generated_intlist[:100] + ['...'])\n",
    "print(\"\\nText ({})\".format(len(generated_text)))\n",
    "print(generated_text[:500] + ' ...')"
   ]
  },
  {
   "cell_type": "code",
   "execution_count": 18,
   "metadata": {
    "ExecuteTime": {
     "end_time": "2019-03-18T04:11:22.314378Z",
     "start_time": "2019-03-18T04:11:22.308899Z"
    }
   },
   "outputs": [],
   "source": [
    "filepath = \"./poc_gen.txt\"\n",
    "\n",
    "with open(filepath, 'w') as f:\n",
    "    f.write(generated_text)"
   ]
  },
  {
   "cell_type": "markdown",
   "metadata": {},
   "source": [
    "---"
   ]
  },
  {
   "cell_type": "markdown",
   "metadata": {},
   "source": [
    "## Final Summary, Notes, and Thoughts\n",
    "[(go to top)](#Undertale-&-Deltarune-Soundtrack-Generator)"
   ]
  },
  {
   "cell_type": "markdown",
   "metadata": {},
   "source": [
    "---"
   ]
  }
 ],
 "metadata": {
  "kernelspec": {
   "display_name": "Python 3",
   "language": "python",
   "name": "python3"
  },
  "language_info": {
   "codemirror_mode": {
    "name": "ipython",
    "version": 3
   },
   "file_extension": ".py",
   "mimetype": "text/x-python",
   "name": "python",
   "nbconvert_exporter": "python",
   "pygments_lexer": "ipython3",
   "version": "3.6.7"
  },
  "toc": {
   "base_numbering": 1,
   "nav_menu": {},
   "number_sections": true,
   "sideBar": true,
   "skip_h1_title": false,
   "title_cell": "Table of Contents",
   "title_sidebar": "Contents",
   "toc_cell": false,
   "toc_position": {},
   "toc_section_display": true,
   "toc_window_display": false
  }
 },
 "nbformat": 4,
 "nbformat_minor": 2
}
